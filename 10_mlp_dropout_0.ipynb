{
 "cells": [
  {
   "cell_type": "code",
   "execution_count": 1,
   "metadata": {},
   "outputs": [],
   "source": [
    "import torch\n",
    "import torch.nn as nn\n",
    "import torch.nn.functional as f\n",
    "import torch.optim as optim\n",
    "\n",
    "import torchvision\n",
    "import torchvision.transforms as transforms\n",
    "\n",
    "import os\n",
    "import matplotlib.pyplot as plt\n",
    "import numpy as np\n",
    "\n",
    "from visdom import Visdom"
   ]
  },
  {
   "cell_type": "code",
   "execution_count": 2,
   "metadata": {},
   "outputs": [],
   "source": [
    "BATCH_SIZE=200\n",
    "LEARNING_RATE=0.01\n",
    "EPOCHS=10  \n",
    "# EPOCHS=20\n",
    "\n",
    "PATH_DATASET_MNIST = '/mnt/hgfs/C06N01/workspace/data'\n",
    "DOWNLOAD_MNIST = True\n",
    "\n",
    "WEIGHT_DECAY = 0.001\n",
    "MOMENTUM = 0.05"
   ]
  },
  {
   "cell_type": "code",
   "execution_count": 3,
   "metadata": {},
   "outputs": [],
   "source": [
    "if not(os.path.exists(PATH_DATASET_MNIST)) or not os.listdir(PATH_DATASET_MNIST):\n",
    "    DOWNLOAD_MNIST = True\n",
    "\n",
    "# =================== Define data source ===================\n",
    "train_data = torchvision.datasets.MNIST(\n",
    "    root = PATH_DATASET_MNIST,\n",
    "    train=True, \n",
    "    transform=transforms.Compose([\n",
    "        transforms.ToTensor(), \n",
    "        #transforms.Normalize((0.1307,), (0.3081,))\n",
    "    ]),\n",
    "    download=DOWNLOAD_MNIST,\n",
    ")\n",
    "\n",
    "train_data, validation_data = torch.utils.data.random_split(train_data, [50000, 10000])\n",
    "\n",
    "test_data = torchvision.datasets.MNIST(\n",
    "    root = PATH_DATASET_MNIST,\n",
    "    train=False, \n",
    "    transform=transforms.Compose([\n",
    "        transforms.ToTensor(), \n",
    "        #transforms.Normalize((0.1307,), (0.3081,))\n",
    "    ]),\n",
    "    download=DOWNLOAD_MNIST,\n",
    ")\n",
    "\n",
    "# =================== Define data loader ===================\n",
    "train_dataloader = torch.utils.data.DataLoader(train_data, batch_size=BATCH_SIZE, shuffle=True)\n",
    "validation_dataloader = torch.utils.data.DataLoader(validation_data, batch_size=BATCH_SIZE, shuffle=True)\n",
    "test_dataloader = torch.utils.data.DataLoader(test_data, batch_size=BATCH_SIZE, shuffle=True)"
   ]
  },
  {
   "cell_type": "code",
   "execution_count": 4,
   "metadata": {},
   "outputs": [
    {
     "name": "stdout",
     "output_type": "stream",
     "text": [
      "#train_data: 50000, #train_batches: 250\n",
      "#validation_data: 10000, #validation_batches: 50\n",
      "#test_data: 10000, #test_batches: 50\n"
     ]
    }
   ],
   "source": [
    "print(\"#train_data: {}, #train_batches: {}\".format(len(train_data), len(train_dataloader)))\n",
    "print(\"#validation_data: {}, #validation_batches: {}\".format(len(validation_data), len(validation_dataloader)))\n",
    "print(\"#test_data: {}, #test_batches: {}\".format(len(test_data), len(test_dataloader)))"
   ]
  },
  {
   "cell_type": "code",
   "execution_count": 5,
   "metadata": {},
   "outputs": [
    {
     "name": "stdout",
     "output_type": "stream",
     "text": [
      "An example of train data\n"
     ]
    },
    {
     "data": {
      "image/png": "[encoded data removed]",
      "text/plain": [
       "<Figure size 432x288 with 1 Axes>"
      ]
     },
     "metadata": {
      "needs_background": "light"
     },
     "output_type": "display_data"
    },
    {
     "name": "stdout",
     "output_type": "stream",
     "text": [
      "An example of validation data\n"
     ]
    },
    {
     "data": {
      "image/png": "[encoded data removed]",
      "text/plain": [
       "<Figure size 432x288 with 1 Axes>"
      ]
     },
     "metadata": {
      "needs_background": "light"
     },
     "output_type": "display_data"
    }
   ],
   "source": [
    "print(\"An example of train data\")\n",
    "plt.imshow(train_data.dataset.data[0], cmap=\"gray\")\n",
    "plt.show()\n",
    "\n",
    "print(\"An example of validation data\")\n",
    "plt.imshow(validation_data.dataset.data[0], cmap=\"gray\")\n",
    "plt.show()"
   ]
  },
  {
   "cell_type": "markdown",
   "metadata": {},
   "source": [
    "#### NN01"
   ]
  },
  {
   "cell_type": "code",
   "execution_count": 6,
   "metadata": {},
   "outputs": [],
   "source": [
    "# NN(784, 200, 200, 10)\n",
    "\n",
    "class MLP(nn.Module):\n",
    "    \n",
    "    # =================== Define MLP structure ===================\n",
    "    def __init__(self):\n",
    "        super(MLP, self).__init__()\n",
    "        self.model = nn.Sequential(\n",
    "            nn.Linear(784, 200)\n",
    "            , nn.Dropout(0.7)             ##\n",
    "            , nn.LeakyReLU(inplace=True)\n",
    "            , nn.Linear(200, 200)\n",
    "            , nn.Dropout(0.5)             ##\n",
    "            , nn.LeakyReLU(inplace=True)\n",
    "            , nn.Linear(200, 10)\n",
    "            , nn.LeakyReLU(inplace=True)\n",
    "        )\n",
    "    \n",
    "    # =================== Define forward method ===================\n",
    "    def forward(self, x):\n",
    "        output = self.model(x)\n",
    "        return output"
   ]
  },
  {
   "cell_type": "code",
   "execution_count": 7,
   "metadata": {
    "scrolled": true
   },
   "outputs": [
    {
     "name": "stdout",
     "output_type": "stream",
     "text": [
      "MLP(\n",
      "  (model): Sequential(\n",
      "    (0): Linear(in_features=784, out_features=200, bias=True)\n",
      "    (1): Dropout(p=0.7, inplace=False)\n",
      "    (2): LeakyReLU(negative_slope=0.01, inplace=True)\n",
      "    (3): Linear(in_features=200, out_features=200, bias=True)\n",
      "    (4): Dropout(p=0.5, inplace=False)\n",
      "    (5): LeakyReLU(negative_slope=0.01, inplace=True)\n",
      "    (6): Linear(in_features=200, out_features=10, bias=True)\n",
      "    (7): LeakyReLU(negative_slope=0.01, inplace=True)\n",
      "  )\n",
      ")\n"
     ]
    }
   ],
   "source": [
    "# =================== Config GPU ===================\n",
    "device = torch.device(\"cpu\")\n",
    "# device = torch.device(\"cuda:0\")\n",
    "\n",
    "mlp = MLP().to(device)  # calculate model on gpu\n",
    "print(mlp)\n",
    "\n",
    "# =================== Define loss function and optimizer ===================\n",
    "cross_entropy_loss = nn.CrossEntropyLoss().to(device)  \n",
    "optimizer = optim.SGD(mlp.parameters()\n",
    "                      , lr=LEARNING_RATE\n",
    "                      #, momentum=MOMENTUM\n",
    "                      #, weight_decay=WEIGHT_DECAY\n",
    "                     )  \n",
    "\n",
    "\n",
    "scheduler = optim.lr_scheduler.StepLR(optimizer, step_size=30, gamma=0.1)  ##"
   ]
  },
  {
   "cell_type": "code",
   "execution_count": 9,
   "metadata": {},
   "outputs": [
    {
     "name": "stderr",
     "output_type": "stream",
     "text": [
      "Setting up a new session...\n"
     ]
    },
    {
     "name": "stdout",
     "output_type": "stream",
     "text": [
      "train epoch: 0 [0/50000 (0%)]\tloss: 0.003800\n",
      "train epoch: 0 [20000/50000 (40%)]\tloss: 0.003347\n",
      "train epoch: 0 [40000/50000 (80%)]\tloss: 0.003239\n",
      "validation loss: 0.7271, validation accuracy: 77%\n",
      "\n",
      "train epoch: 1 [0/50000 (0%)]\tloss: 0.003704\n",
      "train epoch: 1 [20000/50000 (40%)]\tloss: 0.003318\n",
      "train epoch: 1 [40000/50000 (80%)]\tloss: 0.004278\n",
      "validation loss: 0.6808, validation accuracy: 79%\n",
      "\n",
      "train epoch: 2 [0/50000 (0%)]\tloss: 0.003712\n",
      "train epoch: 2 [20000/50000 (40%)]\tloss: 0.003616\n",
      "train epoch: 2 [40000/50000 (80%)]\tloss: 0.003610\n",
      "validation loss: 0.6604, validation accuracy: 79%\n",
      "\n",
      "train epoch: 3 [0/50000 (0%)]\tloss: 0.002831\n",
      "train epoch: 3 [20000/50000 (40%)]\tloss: 0.003289\n",
      "train epoch: 3 [40000/50000 (80%)]\tloss: 0.003076\n",
      "validation loss: 0.6324, validation accuracy: 80%\n",
      "\n",
      "train epoch: 4 [0/50000 (0%)]\tloss: 0.002416\n",
      "train epoch: 4 [20000/50000 (40%)]\tloss: 0.003223\n",
      "train epoch: 4 [40000/50000 (80%)]\tloss: 0.002941\n",
      "validation loss: 0.6101, validation accuracy: 81%\n",
      "\n",
      "train epoch: 5 [0/50000 (0%)]\tloss: 0.002876\n",
      "train epoch: 5 [20000/50000 (40%)]\tloss: 0.002714\n",
      "train epoch: 5 [40000/50000 (80%)]\tloss: 0.002860\n",
      "validation loss: 0.5888, validation accuracy: 82%\n",
      "\n",
      "train epoch: 6 [0/50000 (0%)]\tloss: 0.002791\n",
      "train epoch: 6 [20000/50000 (40%)]\tloss: 0.002880\n",
      "train epoch: 6 [40000/50000 (80%)]\tloss: 0.002588\n",
      "validation loss: 0.5698, validation accuracy: 83%\n",
      "\n",
      "train epoch: 7 [0/50000 (0%)]\tloss: 0.002291\n",
      "train epoch: 7 [20000/50000 (40%)]\tloss: 0.002994\n",
      "train epoch: 7 [40000/50000 (80%)]\tloss: 0.003063\n",
      "validation loss: 0.5549, validation accuracy: 83%\n",
      "\n",
      "train epoch: 8 [0/50000 (0%)]\tloss: 0.002906\n",
      "train epoch: 8 [20000/50000 (40%)]\tloss: 0.002893\n",
      "train epoch: 8 [40000/50000 (80%)]\tloss: 0.002685\n",
      "validation loss: 0.5379, validation accuracy: 84%\n",
      "\n",
      "train epoch: 9 [0/50000 (0%)]\tloss: 0.002542\n",
      "train epoch: 9 [20000/50000 (40%)]\tloss: 0.002643\n",
      "train epoch: 9 [40000/50000 (80%)]\tloss: 0.002522\n",
      "validation loss: 0.5224, validation accuracy: 85%\n",
      "\n",
      "test loss: 0.0024, test accuracy: 85%\n",
      "\n"
     ]
    }
   ],
   "source": [
    "# =================== Config Visdom ===================\n",
    "viz = Visdom()\n",
    "\n",
    "viz.line([0.], [0.], win='train_loss', opts=dict(title='train loss'))\n",
    "viz.line([[0.0, 0.0]], [0.], win='validation', opts=dict(title='validation loss & acc.',\n",
    "                                                   legend=['loss', 'acc.']))\n",
    "global_step = 0\n",
    "\n",
    "# =================== Modeling ===================\n",
    "for epoch in range(EPOCHS):\n",
    "    \n",
    "    scheduler.step()  ##\n",
    "    \n",
    "    # Training\n",
    "    for batch_idx, (X_train, Y_train) in enumerate(train_dataloader): \n",
    "        X_train_input = X_train.view(-1, 28*28)\n",
    "        X_train_input = X_train_input.to(device)  \n",
    "        \n",
    "        Y_train = Y_train.to(device)  \n",
    "        \n",
    "        Y_pred = mlp(X_train_input)\n",
    "            \n",
    "        classification_loss = cross_entropy_loss(Y_pred, Y_train)  \n",
    "    \n",
    "        regularization_cost = 0  \n",
    "#         for p in mlp.parameters():  \n",
    "#             regularization_cost += torch.sum(torch.square(p)) \n",
    "            \n",
    "        loss = classification_loss + WEIGHT_DECAY * regularization_cost  \n",
    "        optimizer.zero_grad()\n",
    "        loss.backward()\n",
    "        optimizer.step()\n",
    "        \n",
    "        global_step += 1  \n",
    "        viz.line([loss.item()], [global_step], win='train_loss', update='append')  \n",
    "        \n",
    "        if batch_idx % 100 == 0 :\n",
    "            print(\"train epoch: {} [{}/{} ({:.0f}%)]\\tloss: {:.6f}\".format(\n",
    "                epoch, batch_idx * BATCH_SIZE, len(train_dataloader.dataset), \n",
    "                100. * batch_idx * BATCH_SIZE / len(train_dataloader.dataset),\n",
    "                loss.item() / len(X_train_input)\n",
    "            ))\n",
    "            \n",
    "    # Validating\n",
    "    validation_loss = 0\n",
    "    correct = 0\n",
    "    for batch_idx, (X_validation, Y_validation) in enumerate(validation_dataloader): \n",
    "        X_validation_input = X_validation.view(-1, 28*28)\n",
    "        X_validation_input = X_validation_input.to(device)  \n",
    "        \n",
    "        Y_validation = Y_validation.to(device)  \n",
    "\n",
    "        Y_pred = mlp(X_validation_input)\n",
    "        \n",
    "        validation_loss += cross_entropy_loss(Y_pred, Y_validation).item()\n",
    "        \n",
    "        Y_pred_label = Y_pred.data.max(1)[1]\n",
    "        correct += Y_pred_label.eq(Y_validation.data).sum()\n",
    "\n",
    "    viz.line([[validation_loss, correct / len(validation_dataloader.dataset)]],  \n",
    "             [global_step], win='validation', update='append')\n",
    "    viz.images(X_validation_input.view(-1, 1, 28, 28), win='x')  \n",
    "    viz.text(str(Y_pred_label.detach().cpu().numpy()), win='pred', opts=dict(title='pred'))  \n",
    "    \n",
    "    regularization_cost = 0  \n",
    "#     for p in mlp.parameters():  \n",
    "#         regularization_cost += torch.sum(torch.square(p))  \n",
    "    \n",
    "    validation_loss /= len(validation_dataloader) \n",
    "    validation_loss += WEIGHT_DECAY * regularization_cost  \n",
    "    \n",
    "    validation_accuracy = 100*correct/len(validation_dataloader.dataset)\n",
    "    \n",
    "    print(\"validation loss: {:.4f}, validation accuracy: {:.0f}%\\n\"\n",
    "          .format(validation_loss, validation_accuracy))\n",
    "\n",
    "# Test\n",
    "test_loss = 0\n",
    "correct = 0\n",
    "for batch_idx, (X_test, Y_test) in enumerate(test_dataloader): \n",
    "    X_test_input = X_test.view(-1, 28*28)\n",
    "    X_test_input = X_test_input.to(device)  \n",
    "    \n",
    "    Y_test = Y_test.to(device)  \n",
    "    \n",
    "    Y_pred = mlp(X_test_input)\n",
    "    \n",
    "    test_loss += cross_entropy_loss(Y_pred, Y_test).item()  \n",
    "    \n",
    "    Y_pred_label = Y_pred.data.max(1)[1]\n",
    "    correct += Y_pred_label.eq(Y_test.data).sum()\n",
    "\n",
    "regularization_cost = 0  \n",
    "# for p in mlp.parameters():  \n",
    "#     regularization_cost += torch.sum(torch.square(p)) \n",
    "\n",
    "test_loss += WEIGHT_DECAY * regularization_cost \n",
    "test_loss /= len(test_dataloader.dataset)\n",
    "\n",
    "test_accuracy = 100*correct/len(test_dataloader.dataset)\n",
    "print(\"test loss: {:.4f}, test accuracy: {:.0f}%\\n\"\n",
    "          .format(test_loss, test_accuracy))"
   ]
  },
  {
   "cell_type": "code",
   "execution_count": null,
   "metadata": {},
   "outputs": [],
   "source": []
  }
 ],
 "metadata": {
  "kernelspec": {
   "display_name": "Python 3",
   "language": "python",
   "name": "python3"
  },
  "language_info": {
   "codemirror_mode": {
    "name": "ipython",
    "version": 3
   },
   "file_extension": ".py",
   "mimetype": "text/x-python",
   "name": "python",
   "nbconvert_exporter": "python",
   "pygments_lexer": "ipython3",
   "version": "3.6.10"
  }
 },
 "nbformat": 4,
 "nbformat_minor": 4
}
